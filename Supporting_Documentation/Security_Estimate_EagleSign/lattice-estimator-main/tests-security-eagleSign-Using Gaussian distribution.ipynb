{
 "cells": [
  {
   "cell_type": "code",
   "execution_count": 2,
   "id": "c421a1f3",
   "metadata": {},
   "outputs": [],
   "source": [
    "from estimator import *\n",
    "from estimator.lwe_parameters import *\n",
    "from estimator.nd import *"
   ]
  },
  {
   "cell_type": "code",
   "execution_count": null,
   "id": "75dc501c",
   "metadata": {},
   "outputs": [],
   "source": []
  },
  {
   "cell_type": "code",
   "execution_count": 3,
   "id": "d944e2d8",
   "metadata": {},
   "outputs": [
    {
     "name": "stdout",
     "output_type": "stream",
     "text": [
      "%%%%%%%%%%%%%%%%%%%%%%%%%%%%%%%%%%%%%%%%%%%%%%%%%%%%%%%%%%%%%%%%%%%%%%%%%%%\n",
      "EagleSign Security estimate\n",
      "Security Level 2\n",
      "%%%%%%%%%%%%%%%%%%%%%%%%%%%%%%%%%%%%%%%%%%%%%%%%%%%%%%%%%%%%%%%%%%%%%%%%%%%\n",
      "Ring dimension p=1024, underlying field modulus q=2021377\n",
      "%%%%%%%%%%%%%%%%%%%%%%%%%%%%%%%%%%%%%%%%%%%%%%%%%%%%%%%%%%%%%%%%%%%%%%%%%%%\n",
      "Longterm secret key recovery (F,g,D) in S^{lxl}_{eta_f} x B_{t_g} x B^{kxl}_{t_d} from E=(A*F^{-1}+D)g^{-1}\n",
      "To estimate the security level, E=(A*F^{-1}+D)g^{-1} is viewed (as usual) as a LWE instance where Fg is the secret and DF is the error\n",
      "Uniform Distribution  for F and sparse distribution for D and g\n",
      "We approximate the distribution of Fg and DF by the Gaussian distribution and\n",
      "we extimate graphically (experimentally) the standard devation of Fg and DF\n",
      "%%%%%%%%%%%%%%%%%%%%%%%%%%%%%%%%%%%%%%%%%%%%%%%%%%%%%%%%%%%%%%%%%%%%%%%%%%%\n",
      "p: 1024 , q: 2021377 , k: 1 , l: 1 , etaf: 1 , td: 7 , tg: 7\n",
      "%%%%%%%%%%%%%%%%%%%%%%%%%%%%%%%%%%%%%%%%%%%%%%%%%%%%%%%%%%%%%%%%%%%%%%%%%%%\n",
      "bkw                  :: rop: ≈2^310.8, m: ≈2^297.1, mem: ≈2^298.1, b: 14, t1: 0, t2: 28, ℓ: 13, #cod: 938, #top: 1, #test: 85, tag: coded-bkw\n",
      "usvp                 :: rop: ≈2^176.3, red: ≈2^176.3, δ: 1.003319, β: 518, d: 2035, tag: usvp\n",
      "bdd                  :: rop: ≈2^173.8, red: ≈2^173.3, svp: ≈2^172.2, β: 507, η: 541, d: 2039, tag: bdd\n",
      "bdd_hybrid           :: rop: ≈2^173.8, red: ≈2^173.3, svp: ≈2^172.2, β: 507, η: 541, ζ: 0, |S|: 1, d: 2049, prob: 1, ↻: 1, tag: hybrid\n",
      "bdd_mitm_hybrid      :: rop: ≈2^381.9, red: ≈2^381.9, svp: ≈2^227.8, β: 517, η: 2, ζ: 0, |S|: 1, d: 2049, prob: ≈2^-203.6, ↻: ≈2^205.8, tag: hybrid\n",
      "dual                 :: rop: ≈2^181.4, mem: ≈2^110.0, m: 1024, β: 533, d: 2048, ↻: 1, tag: dual\n",
      "dual_hybrid          :: rop: ≈2^180.0, mem: ≈2^170.1, m: 1024, β: 528, d: 2037, ↻: 1, ζ: 11, tag: dual_hybrid\n"
     ]
    }
   ],
   "source": [
    "print(\"%%%%%%%%%%%%%%%%%%%%%%%%%%%%%%%%%%%%%%%%%%%%%%%%%%%%%%%%%%%%%%%%%%%%%%%%%%%\")\n",
    "print(\"EagleSign Security estimate\")\n",
    "print(\"Security Level 2\")\n",
    "print(\"%%%%%%%%%%%%%%%%%%%%%%%%%%%%%%%%%%%%%%%%%%%%%%%%%%%%%%%%%%%%%%%%%%%%%%%%%%%\")\n",
    "print(\"Ring dimension p=1024, underlying field modulus q=2021377\")\n",
    "print(\"%%%%%%%%%%%%%%%%%%%%%%%%%%%%%%%%%%%%%%%%%%%%%%%%%%%%%%%%%%%%%%%%%%%%%%%%%%%\")\n",
    "print(\"Longterm secret key recovery (F,g,D) in S^{lxl}_{eta_f} x B_{t_g} x B^{kxl}_{t_d} from E=(A*F^{-1}+D)g^{-1}\")\n",
    "print(\"To estimate the security level, E=(A*F^{-1}+D)g^{-1} is viewed (as usual) as a LWE instance where Fg is the secret and DF is the error\") \n",
    "print(\"Uniform Distribution  for F and sparse distribution for D and g\")\n",
    "print(\"We approximate the distribution of Fg and DF by the Gaussian distribution and\")\n",
    "print(\"we extimate graphically (experimentally) the standard devation of Fg and DF\")\n",
    "print(\"%%%%%%%%%%%%%%%%%%%%%%%%%%%%%%%%%%%%%%%%%%%%%%%%%%%%%%%%%%%%%%%%%%%%%%%%%%%\")\n",
    "p=1024\n",
    "q=2021377\n",
    "k=1\n",
    "l=1\n",
    "etaf=1\n",
    "td = 7\n",
    "tg = 7\n",
    "stdFg = 2.15\n",
    "stdDF = 2.16\n",
    "EagleSign2Pk = LWEParameters(n=p*l,\n",
    "    q=q,\n",
    "    Xs=ND.DiscreteGaussian(stdFg),\n",
    "    Xe=ND.DiscreteGaussian(stdDF),\n",
    "    m=k*p,\n",
    "    tag=\"EagleSign2Pk\")\n",
    "\n",
    "print(\"p:\",p, \", q:\", q,\", k:\", k, \", l:\", l,   \", etaf:\", etaf, \", td:\", td, \", tg:\", tg)\n",
    "print(\"%%%%%%%%%%%%%%%%%%%%%%%%%%%%%%%%%%%%%%%%%%%%%%%%%%%%%%%%%%%%%%%%%%%%%%%%%%%\")\n",
    "r=LWE.estimate(EagleSign2Pk)"
   ]
  },
  {
   "cell_type": "code",
   "execution_count": null,
   "id": "5cff2dce",
   "metadata": {},
   "outputs": [],
   "source": []
  },
  {
   "cell_type": "markdown",
   "id": "38d40f35",
   "metadata": {},
   "source": [
    "-------------------------------------------"
   ]
  },
  {
   "cell_type": "code",
   "execution_count": 5,
   "id": "51c14cb6",
   "metadata": {},
   "outputs": [
    {
     "name": "stdout",
     "output_type": "stream",
     "text": [
      "%%%%%%%%%%%%%%%%%%%%%%%%%%%%%%%%%%%%%%%%%%%%%%%%%%%%%%%%%%%%%%%%%%%%%%%%%%%\n",
      "EagleSign Security estimate\n",
      "Security Level 5\n",
      "%%%%%%%%%%%%%%%%%%%%%%%%%%%%%%%%%%%%%%%%%%%%%%%%%%%%%%%%%%%%%%%%%%%%%%%%%%%\n",
      "Ring dimension p=1024, underlying field modulus q=33292289\n",
      "%%%%%%%%%%%%%%%%%%%%%%%%%%%%%%%%%%%%%%%%%%%%%%%%%%%%%%%%%%%%%%%%%%%%%%%%%%%\n",
      "Longterm secret key recovery (F,g,D) in S^{lxl}_{eta_f} x B_{t_g} x B^{kxl}_{t_d} from E=(A*F^{-1}+D)g^{-1}\n",
      "To estimate the security level, E=(A*F^{-1}+D)g^{-1} is viewed (as usual) as a LWE instance where Fg is the secret and DF is the error\n",
      "Uniform Distribution  for F and sparse distribution for D and g\n",
      "We approximate the distribution of Fg and DF by the Gaussian distribution and\n",
      "we extimate graphically (experimentally) the standard devation of Fg and DF\n",
      "%%%%%%%%%%%%%%%%%%%%%%%%%%%%%%%%%%%%%%%%%%%%%%%%%%%%%%%%%%%%%%%%%%%%%%%%%%%\n",
      "p: 2048 , q: 33292289 , k: 1 , l: 1 , etaf: 1 , td: 13 , tg: 14\n",
      "%%%%%%%%%%%%%%%%%%%%%%%%%%%%%%%%%%%%%%%%%%%%%%%%%%%%%%%%%%%%%%%%%%%%%%%%%%%\n",
      "Algorithm arora_gb+guessing on LWEParameters(n=2048, q=33292289, Xs=D(σ=2.94), Xe=D(σ=3.05), m=2048, tag='EagleSign5Pk') failed with unsupported operand type(s) for -: 'NoneType' and 'NoneType'\n",
      "Algorithm <estimator.lwe_bkw.CodedBKW object at 0x7fb146111310> on LWEParameters(n=2048, q=33292289, Xs=D(σ=2.94), Xe=D(σ=3.05), m=2048, tag='EagleSign5Pk') failed with unsupported operand type(s) for -: 'NoneType' and 'NoneType'\n",
      "Algorithm functools.partial(<function primal_bdd at 0x7fb146151c10>, red_cost_model=<estimator.reduction.MATZOV object at 0x7fb14614d700>, red_shape_model='gsa') on LWEParameters(n=2048, q=33292289, Xs=D(σ=2.94), Xe=D(σ=3.05), m=2048, tag='EagleSign5Pk') failed with unsupported operand type(s) for -: 'NoneType' and 'NoneType'\n",
      "Algorithm functools.partial(<estimator.lwe_primal.PrimalHybrid object at 0x7fb1460e3340>, mitm=False, babai=False, red_cost_model=<estimator.reduction.MATZOV object at 0x7fb14614d700>, red_shape_model='gsa') on LWEParameters(n=2048, q=33292289, Xs=D(σ=2.94), Xe=D(σ=3.05), m=2048, tag='EagleSign5Pk') failed with unsupported operand type(s) for -: 'NoneType' and 'NoneType'\n",
      "Algorithm functools.partial(<estimator.lwe_primal.PrimalHybrid object at 0x7fb1460e3340>, mitm=True, babai=True, red_cost_model=<estimator.reduction.MATZOV object at 0x7fb14614d700>, red_shape_model='gsa') on LWEParameters(n=2048, q=33292289, Xs=D(σ=2.94), Xe=D(σ=3.05), m=2048, tag='EagleSign5Pk') failed with unsupported operand type(s) for -: 'NoneType' and 'NoneType'\n",
      "Algorithm functools.partial(<function dual_hybrid at 0x7fb1450cd4c0>, red_cost_model=<estimator.reduction.MATZOV object at 0x7fb14614d700>, mitm_optimization=False) on LWEParameters(n=2048, q=33292289, Xs=D(σ=2.94), Xe=D(σ=3.05), m=2048, tag='EagleSign5Pk') failed with unsupported operand type(s) for -: 'NoneType' and 'NoneType'\n",
      "Algorithm functools.partial(<function dual_hybrid at 0x7fb1450cd4c0>, red_cost_model=<estimator.reduction.MATZOV object at 0x7fb14614d700>, mitm_optimization=True) on LWEParameters(n=2048, q=33292289, Xs=D(σ=2.94), Xe=D(σ=3.05), m=2048, tag='EagleSign5Pk') failed with unsupported operand type(s) for -: 'NoneType' and 'NoneType'\n",
      "usvp                 :: rop: ≈2^319.6, red: ≈2^319.6, δ: 1.002002, β: 1027, d: 4051, tag: usvp\n",
      "dual                 :: rop: ≈2^328.5, mem: ≈2^213.4, m: ≈2^11.0, β: 1055, d: 4096, ↻: 1, tag: dual\n"
     ]
    }
   ],
   "source": [
    "print(\"%%%%%%%%%%%%%%%%%%%%%%%%%%%%%%%%%%%%%%%%%%%%%%%%%%%%%%%%%%%%%%%%%%%%%%%%%%%\")\n",
    "print(\"EagleSign Security estimate\")\n",
    "print(\"Security Level 5\")\n",
    "print(\"%%%%%%%%%%%%%%%%%%%%%%%%%%%%%%%%%%%%%%%%%%%%%%%%%%%%%%%%%%%%%%%%%%%%%%%%%%%\")\n",
    "print(\"Ring dimension p=1024, underlying field modulus q=33292289\")\n",
    "print(\"%%%%%%%%%%%%%%%%%%%%%%%%%%%%%%%%%%%%%%%%%%%%%%%%%%%%%%%%%%%%%%%%%%%%%%%%%%%\")\n",
    "print(\"Longterm secret key recovery (F,g,D) in S^{lxl}_{eta_f} x B_{t_g} x B^{kxl}_{t_d} from E=(A*F^{-1}+D)g^{-1}\")\n",
    "print(\"To estimate the security level, E=(A*F^{-1}+D)g^{-1} is viewed (as usual) as a LWE instance where Fg is the secret and DF is the error\") \n",
    "print(\"Uniform Distribution  for F and sparse distribution for D and g\")\n",
    "print(\"We approximate the distribution of Fg and DF by the Gaussian distribution and\")\n",
    "print(\"we extimate graphically (experimentally) the standard devation of Fg and DF\")\n",
    "print(\"%%%%%%%%%%%%%%%%%%%%%%%%%%%%%%%%%%%%%%%%%%%%%%%%%%%%%%%%%%%%%%%%%%%%%%%%%%%\")\n",
    "p=2048\n",
    "q=33292289\n",
    "k=1\n",
    "l=1\n",
    "etaf=1\n",
    "td = 13\n",
    "tg = 14\n",
    "stdFg = 3.05\n",
    "stdDF = 2.94\n",
    "EagleSign5Pk = LWEParameters(n=p*l,\n",
    "    q=q,\n",
    "    Xs=NoiseDistribution(stdFg),\n",
    "    Xe=NoiseDistribution(stdDF),\n",
    "    m=k*p,\n",
    "    tag=\"EagleSign5Pk\")\n",
    "\n",
    "print(\"p:\",p, \", q:\", q,\", k:\", k, \", l:\", l,   \", etaf:\", etaf, \", td:\", td, \", tg:\", tg)\n",
    "print(\"%%%%%%%%%%%%%%%%%%%%%%%%%%%%%%%%%%%%%%%%%%%%%%%%%%%%%%%%%%%%%%%%%%%%%%%%%%%\")\n",
    "r=LWE.estimate(EagleSign5Pk)"
   ]
  },
  {
   "cell_type": "code",
   "execution_count": null,
   "id": "db3e7b7b",
   "metadata": {},
   "outputs": [],
   "source": []
  },
  {
   "cell_type": "code",
   "execution_count": 6,
   "id": "581e5a9c",
   "metadata": {},
   "outputs": [
    {
     "name": "stdout",
     "output_type": "stream",
     "text": [
      "%%%%%%%%%%%%%%%%%%%%%%%%%%%%%%%%%%%%%%%%%%%%%%%%%%%%%%%%%%%%%%%%%%%%%%%%%%%\n",
      "EagleSign Security estimate\n",
      "Security Level 5++\n",
      "%%%%%%%%%%%%%%%%%%%%%%%%%%%%%%%%%%%%%%%%%%%%%%%%%%%%%%%%%%%%%%%%%%%%%%%%%%%\n",
      "Ring dimension p=1024, underlying field modulus q=7340033\n",
      "%%%%%%%%%%%%%%%%%%%%%%%%%%%%%%%%%%%%%%%%%%%%%%%%%%%%%%%%%%%%%%%%%%%%%%%%%%%\n",
      "Longterm secret key recovery (F,g,D) in S^{lxl}_{eta_f} x B_{t_g} x B^{kxl}_{t_d} from E=(A*F^{-1}+D)g^{-1}\n",
      "To estimate the security level, E=(A*F^{-1}+D)g^{-1} is viewed (as usual) as a LWE instance where Fg is the secret and DF is the error\n",
      "Uniform Distribution  for F and sparse distribution for D and g\n",
      "We approximate the distribution of Fg and DF by the Gaussian distribution and\n",
      "we extimate graphically (experimentally) the standard devation of Fg and DF\n",
      "%%%%%%%%%%%%%%%%%%%%%%%%%%%%%%%%%%%%%%%%%%%%%%%%%%%%%%%%%%%%%%%%%%%%%%%%%%%\n",
      "p: 1024 , q: 7340033 , k: 3 , l: 2 , etaf: 1 , td: 3 , tg: 16\n",
      "%%%%%%%%%%%%%%%%%%%%%%%%%%%%%%%%%%%%%%%%%%%%%%%%%%%%%%%%%%%%%%%%%%%%%%%%%%%\n",
      "Algorithm arora_gb+guessing on LWEParameters(n=2048, q=7340033, Xs=D(σ=2.01), Xe=D(σ=3.25), m=2048, tag='EagleSign5PlusPlusPk') failed with unsupported operand type(s) for -: 'NoneType' and 'NoneType'\n",
      "Algorithm <estimator.lwe_bkw.CodedBKW object at 0x7fb146111310> on LWEParameters(n=2048, q=7340033, Xs=D(σ=2.01), Xe=D(σ=3.25), m=2048, tag='EagleSign5PlusPlusPk') failed with unsupported operand type(s) for -: 'NoneType' and 'NoneType'\n",
      "Algorithm functools.partial(<function primal_bdd at 0x7fb146151c10>, red_cost_model=<estimator.reduction.MATZOV object at 0x7fb14614d700>, red_shape_model='gsa') on LWEParameters(n=2048, q=7340033, Xs=D(σ=2.01), Xe=D(σ=3.25), m=2048, tag='EagleSign5PlusPlusPk') failed with unsupported operand type(s) for -: 'NoneType' and 'NoneType'\n",
      "Algorithm functools.partial(<estimator.lwe_primal.PrimalHybrid object at 0x7fb1460e3340>, mitm=False, babai=False, red_cost_model=<estimator.reduction.MATZOV object at 0x7fb14614d700>, red_shape_model='gsa') on LWEParameters(n=2048, q=7340033, Xs=D(σ=2.01), Xe=D(σ=3.25), m=2048, tag='EagleSign5PlusPlusPk') failed with unsupported operand type(s) for -: 'NoneType' and 'NoneType'\n",
      "Algorithm functools.partial(<estimator.lwe_primal.PrimalHybrid object at 0x7fb1460e3340>, mitm=True, babai=True, red_cost_model=<estimator.reduction.MATZOV object at 0x7fb14614d700>, red_shape_model='gsa') on LWEParameters(n=2048, q=7340033, Xs=D(σ=2.01), Xe=D(σ=3.25), m=2048, tag='EagleSign5PlusPlusPk') failed with unsupported operand type(s) for -: 'NoneType' and 'NoneType'\n",
      "Algorithm functools.partial(<function dual_hybrid at 0x7fb1450cd4c0>, red_cost_model=<estimator.reduction.MATZOV object at 0x7fb14614d700>, mitm_optimization=False) on LWEParameters(n=2048, q=7340033, Xs=D(σ=2.01), Xe=D(σ=3.25), m=2048, tag='EagleSign5PlusPlusPk') failed with unsupported operand type(s) for -: 'NoneType' and 'NoneType'\n",
      "Algorithm functools.partial(<function dual_hybrid at 0x7fb1450cd4c0>, red_cost_model=<estimator.reduction.MATZOV object at 0x7fb14614d700>, mitm_optimization=True) on LWEParameters(n=2048, q=7340033, Xs=D(σ=2.01), Xe=D(σ=3.25), m=2048, tag='EagleSign5PlusPlusPk') failed with unsupported operand type(s) for -: 'NoneType' and 'NoneType'\n",
      "usvp                 :: rop: ≈2^347.1, red: ≈2^347.1, δ: 1.001868, β: 1125, d: 4022, tag: usvp\n",
      "dual                 :: rop: ≈2^357.9, mem: ≈2^232.0, m: ≈2^11.0, β: 1160, d: 4096, ↻: 1, tag: dual\n"
     ]
    }
   ],
   "source": [
    "print(\"%%%%%%%%%%%%%%%%%%%%%%%%%%%%%%%%%%%%%%%%%%%%%%%%%%%%%%%%%%%%%%%%%%%%%%%%%%%\")\n",
    "print(\"EagleSign Security estimate\")\n",
    "print(\"Security Level 5++\")\n",
    "print(\"%%%%%%%%%%%%%%%%%%%%%%%%%%%%%%%%%%%%%%%%%%%%%%%%%%%%%%%%%%%%%%%%%%%%%%%%%%%\")\n",
    "print(\"Ring dimension p=1024, underlying field modulus q=7340033\")\n",
    "print(\"%%%%%%%%%%%%%%%%%%%%%%%%%%%%%%%%%%%%%%%%%%%%%%%%%%%%%%%%%%%%%%%%%%%%%%%%%%%\")\n",
    "print(\"Longterm secret key recovery (F,g,D) in S^{lxl}_{eta_f} x B_{t_g} x B^{kxl}_{t_d} from E=(A*F^{-1}+D)g^{-1}\")\n",
    "print(\"To estimate the security level, E=(A*F^{-1}+D)g^{-1} is viewed (as usual) as a LWE instance where Fg is the secret and DF is the error\") \n",
    "print(\"Uniform Distribution  for F and sparse distribution for D and g\")\n",
    "print(\"We approximate the distribution of Fg and DF by the Gaussian distribution and\")\n",
    "print(\"we extimate graphically (experimentally) the standard devation of Fg and DF\")\n",
    "print(\"%%%%%%%%%%%%%%%%%%%%%%%%%%%%%%%%%%%%%%%%%%%%%%%%%%%%%%%%%%%%%%%%%%%%%%%%%%%\")\n",
    "p=1024\n",
    "q=7340033\n",
    "k=3\n",
    "l=2\n",
    "etaf=1\n",
    "td = 3\n",
    "tg = 16\n",
    "stdFg = 3.25\n",
    "stdDF = 2.01\n",
    "EagleSign5PlusPlusPk = LWEParameters(n=p*l,\n",
    "    q=q,\n",
    "    Xs=NoiseDistribution(stdFg),\n",
    "    Xe=NoiseDistribution(stdDF),\n",
    "    m=k*p,\n",
    "    tag=\"EagleSign5PlusPlusPk\")\n",
    "\n",
    "print(\"p:\",p, \", q:\", q,\", k:\", k, \", l:\", l,   \", etaf:\", etaf, \", td:\", td, \", tg:\", tg)\n",
    "print(\"%%%%%%%%%%%%%%%%%%%%%%%%%%%%%%%%%%%%%%%%%%%%%%%%%%%%%%%%%%%%%%%%%%%%%%%%%%%\")\n",
    "r=LWE.estimate(EagleSign5PlusPlusPk)"
   ]
  },
  {
   "cell_type": "code",
   "execution_count": null,
   "id": "b2aa2e65",
   "metadata": {},
   "outputs": [],
   "source": []
  }
 ],
 "metadata": {
  "kernelspec": {
   "display_name": "SageMath 9.0",
   "language": "sage",
   "name": "sagemath"
  },
  "language_info": {
   "codemirror_mode": {
    "name": "ipython",
    "version": 3
   },
   "file_extension": ".py",
   "mimetype": "text/x-python",
   "name": "python",
   "nbconvert_exporter": "python",
   "pygments_lexer": "ipython3",
   "version": "3.8.10"
  }
 },
 "nbformat": 4,
 "nbformat_minor": 5
}
