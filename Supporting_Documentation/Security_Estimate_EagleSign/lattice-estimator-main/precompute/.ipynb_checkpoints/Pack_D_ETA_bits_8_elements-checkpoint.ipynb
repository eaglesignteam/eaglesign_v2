{
 "cells": [
  {
   "cell_type": "code",
   "execution_count": 1,
   "metadata": {},
   "outputs": [],
   "source": [
    "import numpy as np\n",
    "import pandas as pd"
   ]
  },
  {
   "cell_type": "code",
   "execution_count": 2,
   "metadata": {},
   "outputs": [],
   "source": [
    "def pack(D, Dp, dtype=\"int32_t\", dterm=\"logeta\", n=8):\n",
    "    if Dp%2 == 0 and n>1:\n",
    "        return pack(D, Dp//2, dtype, dterm, n//2)\n",
    "    \n",
    "    \n",
    "    X = [[i]*D for i in range(8)]\n",
    "    Y = [[-1]*8 for i in range(D)]\n",
    "    Z= [-1]*(8*D)\n",
    "\n",
    "    l = 0\n",
    "    for i in range(8):\n",
    "        for j in range(D):\n",
    "            Z[l] = X[i][j]\n",
    "            l += 1\n",
    "\n",
    "    l = 0\n",
    "    for i in range(D):\n",
    "        for j in range(8):\n",
    "            Y[i][j] = Z[l]\n",
    "            l += 1\n",
    "\n",
    "    ta = []\n",
    "    tb = []\n",
    "    for y in Y:\n",
    "        y = pd.Series(y)\n",
    "        c = dict(y.value_counts())\n",
    "        ta.append(c)\n",
    "        for key in c.keys():\n",
    "            tb.append({key: c[key]})\n",
    "            \n",
    "    print(\"\\nunsigned int i;\\n{} t[{}]; \\nfor(i=0;i<N/{};++i)\\n{{\\n\".format(dtype, n, n))\n",
    "\n",
    "    for i in range(n):\n",
    "        print(\"    t[{0}] = (1 << ({1} - 1)) - a->coeffs[{2} * i + {0}];\".format(i, dterm, n))\n",
    "    print()\n",
    "\n",
    "    cp = 0\n",
    "    cp_key = 0\n",
    "    it = 0\n",
    "    for y in Y:\n",
    "        y = pd.Series(y)\n",
    "        c = dict(y.value_counts())\n",
    "        init = 0\n",
    "        sorted_ = list(c.keys())\n",
    "        sorted_.sort()\n",
    "        for key in sorted_:\n",
    "            if key >= n:\n",
    "                break\n",
    "            cp = cp%D\n",
    "            if init == 0:\n",
    "                print(\"    r[{} * i + {}] = t[{}]{};\".format(Dp, it, key, \" >> {}\".format(cp) if cp else \"\"))\n",
    "                init += c[key]\n",
    "            else:\n",
    "                print(\"    r[{} * i + {}] {}= t[{}]{};\".format(Dp, it, \"|\" if init else \"\", key, \" << {}\".format(init) if init else \"\"))\n",
    "                init += c[key]\n",
    "\n",
    "\n",
    "            if (cp_key == key):\n",
    "                cp += c[key]\n",
    "            else:            \n",
    "                cp = c[key]\n",
    "\n",
    "            cp_key = key\n",
    "\n",
    "        it += 1\n",
    "    print(\"\\n}\")"
   ]
  },
  {
   "cell_type": "code",
   "execution_count": 4,
   "metadata": {},
   "outputs": [
    {
     "name": "stdout",
     "output_type": "stream",
     "text": [
      "\n",
      "unsigned int i;\n",
      "Q_SIZE t[8]; \n",
      "for(i=0;i<N/8;++i)\n",
      "{\n",
      "\n",
      "    t[0] = (1 << (COEFF_BIT_SIZE - 1)) - a->coeffs[8 * i + 0];\n",
      "    t[1] = (1 << (COEFF_BIT_SIZE - 1)) - a->coeffs[8 * i + 1];\n",
      "    t[2] = (1 << (COEFF_BIT_SIZE - 1)) - a->coeffs[8 * i + 2];\n",
      "    t[3] = (1 << (COEFF_BIT_SIZE - 1)) - a->coeffs[8 * i + 3];\n",
      "    t[4] = (1 << (COEFF_BIT_SIZE - 1)) - a->coeffs[8 * i + 4];\n",
      "    t[5] = (1 << (COEFF_BIT_SIZE - 1)) - a->coeffs[8 * i + 5];\n",
      "    t[6] = (1 << (COEFF_BIT_SIZE - 1)) - a->coeffs[8 * i + 6];\n",
      "    t[7] = (1 << (COEFF_BIT_SIZE - 1)) - a->coeffs[8 * i + 7];\n",
      "\n",
      "    r[21 * i + 0] = t[0];\n",
      "    r[21 * i + 1] = t[0] >> 8;\n",
      "    r[21 * i + 2] = t[0] >> 16;\n",
      "    r[21 * i + 2] |= t[1] << 5;\n",
      "    r[21 * i + 3] = t[1] >> 3;\n",
      "    r[21 * i + 4] = t[1] >> 11;\n",
      "    r[21 * i + 5] = t[1] >> 19;\n",
      "    r[21 * i + 5] |= t[2] << 2;\n",
      "    r[21 * i + 6] = t[2] >> 6;\n",
      "    r[21 * i + 7] = t[2] >> 14;\n",
      "    r[21 * i + 7] |= t[3] << 7;\n",
      "    r[21 * i + 8] = t[3] >> 1;\n",
      "    r[21 * i + 9] = t[3] >> 9;\n",
      "    r[21 * i + 10] = t[3] >> 17;\n",
      "    r[21 * i + 10] |= t[4] << 4;\n",
      "    r[21 * i + 11] = t[4] >> 4;\n",
      "    r[21 * i + 12] = t[4] >> 12;\n",
      "    r[21 * i + 13] = t[4] >> 20;\n",
      "    r[21 * i + 13] |= t[5] << 1;\n",
      "    r[21 * i + 14] = t[5] >> 7;\n",
      "    r[21 * i + 15] = t[5] >> 15;\n",
      "    r[21 * i + 15] |= t[6] << 6;\n",
      "    r[21 * i + 16] = t[6] >> 2;\n",
      "    r[21 * i + 17] = t[6] >> 10;\n",
      "    r[21 * i + 18] = t[6] >> 18;\n",
      "    r[21 * i + 18] |= t[7] << 3;\n",
      "    r[21 * i + 19] = t[7] >> 5;\n",
      "    r[21 * i + 20] = t[7] >> 13;\n",
      "\n",
      "}\n"
     ]
    }
   ],
   "source": [
    "pack(21, 21, \"Q_SIZE\", \"COEFF_BIT_SIZE\")"
   ]
  },
  {
   "cell_type": "code",
   "execution_count": 50,
   "metadata": {},
   "outputs": [
    {
     "name": "stdout",
     "output_type": "stream",
     "text": [
      "\n",
      "unsigned int i;\n",
      "Q_SIZE t[8]; \n",
      "for(i=0;i<N/8;++i)\n",
      "{\n",
      "\n",
      "    t[0] = (1 << (logeta - 1)) - a->coeffs[8 * i + 0];\n",
      "    t[1] = (1 << (logeta - 1)) - a->coeffs[8 * i + 1];\n",
      "    t[2] = (1 << (logeta - 1)) - a->coeffs[8 * i + 2];\n",
      "    t[3] = (1 << (logeta - 1)) - a->coeffs[8 * i + 3];\n",
      "    t[4] = (1 << (logeta - 1)) - a->coeffs[8 * i + 4];\n",
      "    t[5] = (1 << (logeta - 1)) - a->coeffs[8 * i + 5];\n",
      "    t[6] = (1 << (logeta - 1)) - a->coeffs[8 * i + 6];\n",
      "    t[7] = (1 << (logeta - 1)) - a->coeffs[8 * i + 7];\n",
      "\n",
      "    r[3 * i + 0] = t[0];\n",
      "    r[3 * i + 0] |= t[1] << 3;\n",
      "    r[3 * i + 0] |= t[2] << 6;\n",
      "    r[3 * i + 1] = t[2] >> 2;\n",
      "    r[3 * i + 1] |= t[3] << 1;\n",
      "    r[3 * i + 1] |= t[4] << 4;\n",
      "    r[3 * i + 1] |= t[5] << 7;\n",
      "    r[3 * i + 2] = t[5] >> 1;\n",
      "    r[3 * i + 2] |= t[6] << 2;\n",
      "    r[3 * i + 2] |= t[7] << 5;\n",
      "\n",
      "}\n"
     ]
    }
   ],
   "source": [
    "pack(3, 3, \"Q_SIZE\")"
   ]
  },
  {
   "cell_type": "code",
   "execution_count": 51,
   "metadata": {},
   "outputs": [
    {
     "name": "stdout",
     "output_type": "stream",
     "text": [
      "\n",
      "unsigned int i;\n",
      "Q_SIZE t[4]; \n",
      "for(i=0;i<N/4;++i)\n",
      "{\n",
      "\n",
      "    t[0] = (1 << (logeta - 1)) - a->coeffs[4 * i + 0];\n",
      "    t[1] = (1 << (logeta - 1)) - a->coeffs[4 * i + 1];\n",
      "    t[2] = (1 << (logeta - 1)) - a->coeffs[4 * i + 2];\n",
      "    t[3] = (1 << (logeta - 1)) - a->coeffs[4 * i + 3];\n",
      "\n",
      "    r[9 * i + 0] = t[0];\n",
      "    r[9 * i + 1] = t[0] >> 8;\n",
      "    r[9 * i + 2] = t[0] >> 16;\n",
      "    r[9 * i + 2] |= t[1] << 2;\n",
      "    r[9 * i + 3] = t[1] >> 6;\n",
      "    r[9 * i + 4] = t[1] >> 14;\n",
      "    r[9 * i + 4] |= t[2] << 4;\n",
      "    r[9 * i + 5] = t[2] >> 4;\n",
      "    r[9 * i + 6] = t[2] >> 12;\n",
      "    r[9 * i + 6] |= t[3] << 6;\n",
      "    r[9 * i + 7] = t[3] >> 2;\n",
      "    r[9 * i + 8] = t[3] >> 10;\n",
      "\n",
      "}\n"
     ]
    }
   ],
   "source": [
    "pack(18, 18, \"Q_SIZE\")"
   ]
  },
  {
   "cell_type": "code",
   "execution_count": 52,
   "metadata": {},
   "outputs": [
    {
     "name": "stdout",
     "output_type": "stream",
     "text": [
      "\n",
      "unsigned int i;\n",
      "Q_SIZE t[8]; \n",
      "for(i=0;i<N/8;++i)\n",
      "{\n",
      "\n",
      "    t[0] = (1 << (logeta - 1)) - a->coeffs[8 * i + 0];\n",
      "    t[1] = (1 << (logeta - 1)) - a->coeffs[8 * i + 1];\n",
      "    t[2] = (1 << (logeta - 1)) - a->coeffs[8 * i + 2];\n",
      "    t[3] = (1 << (logeta - 1)) - a->coeffs[8 * i + 3];\n",
      "    t[4] = (1 << (logeta - 1)) - a->coeffs[8 * i + 4];\n",
      "    t[5] = (1 << (logeta - 1)) - a->coeffs[8 * i + 5];\n",
      "    t[6] = (1 << (logeta - 1)) - a->coeffs[8 * i + 6];\n",
      "    t[7] = (1 << (logeta - 1)) - a->coeffs[8 * i + 7];\n",
      "\n",
      "    r[21 * i + 0] = t[0];\n",
      "    r[21 * i + 1] = t[0] >> 8;\n",
      "    r[21 * i + 2] = t[0] >> 16;\n",
      "    r[21 * i + 2] |= t[1] << 5;\n",
      "    r[21 * i + 3] = t[1] >> 3;\n",
      "    r[21 * i + 4] = t[1] >> 11;\n",
      "    r[21 * i + 5] = t[1] >> 19;\n",
      "    r[21 * i + 5] |= t[2] << 2;\n",
      "    r[21 * i + 6] = t[2] >> 6;\n",
      "    r[21 * i + 7] = t[2] >> 14;\n",
      "    r[21 * i + 7] |= t[3] << 7;\n",
      "    r[21 * i + 8] = t[3] >> 1;\n",
      "    r[21 * i + 9] = t[3] >> 9;\n",
      "    r[21 * i + 10] = t[3] >> 17;\n",
      "    r[21 * i + 10] |= t[4] << 4;\n",
      "    r[21 * i + 11] = t[4] >> 4;\n",
      "    r[21 * i + 12] = t[4] >> 12;\n",
      "    r[21 * i + 13] = t[4] >> 20;\n",
      "    r[21 * i + 13] |= t[5] << 1;\n",
      "    r[21 * i + 14] = t[5] >> 7;\n",
      "    r[21 * i + 15] = t[5] >> 15;\n",
      "    r[21 * i + 15] |= t[6] << 6;\n",
      "    r[21 * i + 16] = t[6] >> 2;\n",
      "    r[21 * i + 17] = t[6] >> 10;\n",
      "    r[21 * i + 18] = t[6] >> 18;\n",
      "    r[21 * i + 18] |= t[7] << 3;\n",
      "    r[21 * i + 19] = t[7] >> 5;\n",
      "    r[21 * i + 20] = t[7] >> 13;\n",
      "\n",
      "}\n"
     ]
    }
   ],
   "source": [
    "pack(21, 21, \"Q_SIZE\")"
   ]
  },
  {
   "cell_type": "code",
   "execution_count": 53,
   "metadata": {
    "scrolled": false
   },
   "outputs": [
    {
     "name": "stdout",
     "output_type": "stream",
     "text": [
      "\n",
      "unsigned int i;\n",
      "Q_SIZE t[4]; \n",
      "for(i=0;i<N/4;++i)\n",
      "{\n",
      "\n",
      "    t[0] = (1 << (logeta - 1)) - a->coeffs[4 * i + 0];\n",
      "    t[1] = (1 << (logeta - 1)) - a->coeffs[4 * i + 1];\n",
      "    t[2] = (1 << (logeta - 1)) - a->coeffs[4 * i + 2];\n",
      "    t[3] = (1 << (logeta - 1)) - a->coeffs[4 * i + 3];\n",
      "\n",
      "    r[11 * i + 0] = t[0];\n",
      "    r[11 * i + 1] = t[0] >> 8;\n",
      "    r[11 * i + 2] = t[0] >> 16;\n",
      "    r[11 * i + 2] |= t[1] << 6;\n",
      "    r[11 * i + 3] = t[1] >> 2;\n",
      "    r[11 * i + 4] = t[1] >> 10;\n",
      "    r[11 * i + 5] = t[1] >> 18;\n",
      "    r[11 * i + 5] |= t[2] << 4;\n",
      "    r[11 * i + 6] = t[2] >> 4;\n",
      "    r[11 * i + 7] = t[2] >> 12;\n",
      "    r[11 * i + 8] = t[2] >> 20;\n",
      "    r[11 * i + 8] |= t[3] << 2;\n",
      "    r[11 * i + 9] = t[3] >> 6;\n",
      "    r[11 * i + 10] = t[3] >> 14;\n",
      "\n",
      "}\n"
     ]
    }
   ],
   "source": [
    "pack(22, 22, \"Q_SIZE\")"
   ]
  },
  {
   "cell_type": "code",
   "execution_count": 54,
   "metadata": {},
   "outputs": [
    {
     "name": "stdout",
     "output_type": "stream",
     "text": [
      "\n",
      "unsigned int i;\n",
      "Q_SIZE t[8]; \n",
      "for(i=0;i<N/8;++i)\n",
      "{\n",
      "\n",
      "    t[0] = (1 << (logeta - 1)) - a->coeffs[8 * i + 0];\n",
      "    t[1] = (1 << (logeta - 1)) - a->coeffs[8 * i + 1];\n",
      "    t[2] = (1 << (logeta - 1)) - a->coeffs[8 * i + 2];\n",
      "    t[3] = (1 << (logeta - 1)) - a->coeffs[8 * i + 3];\n",
      "    t[4] = (1 << (logeta - 1)) - a->coeffs[8 * i + 4];\n",
      "    t[5] = (1 << (logeta - 1)) - a->coeffs[8 * i + 5];\n",
      "    t[6] = (1 << (logeta - 1)) - a->coeffs[8 * i + 6];\n",
      "    t[7] = (1 << (logeta - 1)) - a->coeffs[8 * i + 7];\n",
      "\n",
      "    r[23 * i + 0] = t[0];\n",
      "    r[23 * i + 1] = t[0] >> 8;\n",
      "    r[23 * i + 2] = t[0] >> 16;\n",
      "    r[23 * i + 2] |= t[1] << 7;\n",
      "    r[23 * i + 3] = t[1] >> 1;\n",
      "    r[23 * i + 4] = t[1] >> 9;\n",
      "    r[23 * i + 5] = t[1] >> 17;\n",
      "    r[23 * i + 5] |= t[2] << 6;\n",
      "    r[23 * i + 6] = t[2] >> 2;\n",
      "    r[23 * i + 7] = t[2] >> 10;\n",
      "    r[23 * i + 8] = t[2] >> 18;\n",
      "    r[23 * i + 8] |= t[3] << 5;\n",
      "    r[23 * i + 9] = t[3] >> 3;\n",
      "    r[23 * i + 10] = t[3] >> 11;\n",
      "    r[23 * i + 11] = t[3] >> 19;\n",
      "    r[23 * i + 11] |= t[4] << 4;\n",
      "    r[23 * i + 12] = t[4] >> 4;\n",
      "    r[23 * i + 13] = t[4] >> 12;\n",
      "    r[23 * i + 14] = t[4] >> 20;\n",
      "    r[23 * i + 14] |= t[5] << 3;\n",
      "    r[23 * i + 15] = t[5] >> 5;\n",
      "    r[23 * i + 16] = t[5] >> 13;\n",
      "    r[23 * i + 17] = t[5] >> 21;\n",
      "    r[23 * i + 17] |= t[6] << 2;\n",
      "    r[23 * i + 18] = t[6] >> 6;\n",
      "    r[23 * i + 19] = t[6] >> 14;\n",
      "    r[23 * i + 20] = t[6] >> 22;\n",
      "    r[23 * i + 20] |= t[7] << 1;\n",
      "    r[23 * i + 21] = t[7] >> 7;\n",
      "    r[23 * i + 22] = t[7] >> 15;\n",
      "\n",
      "}\n"
     ]
    }
   ],
   "source": [
    "pack(23, 23, \"Q_SIZE\")"
   ]
  },
  {
   "cell_type": "code",
   "execution_count": 55,
   "metadata": {},
   "outputs": [
    {
     "name": "stdout",
     "output_type": "stream",
     "text": [
      "\n",
      "unsigned int i;\n",
      "Q_SIZE t[1]; \n",
      "for(i=0;i<N/1;++i)\n",
      "{\n",
      "\n",
      "    t[0] = (1 << (logeta - 1)) - a->coeffs[1 * i + 0];\n",
      "\n",
      "    r[3 * i + 0] = t[0];\n",
      "    r[3 * i + 1] = t[0] >> 8;\n",
      "    r[3 * i + 2] = t[0] >> 16;\n",
      "\n",
      "}\n"
     ]
    }
   ],
   "source": [
    "pack(24, 24, \"Q_SIZE\")"
   ]
  },
  {
   "cell_type": "code",
   "execution_count": 56,
   "metadata": {
    "scrolled": false
   },
   "outputs": [
    {
     "name": "stdout",
     "output_type": "stream",
     "text": [
      "\n",
      "unsigned int i;\n",
      "Q_SIZE t[8]; \n",
      "for(i=0;i<N/8;++i)\n",
      "{\n",
      "\n",
      "    t[0] = (1 << (logeta - 1)) - a->coeffs[8 * i + 0];\n",
      "    t[1] = (1 << (logeta - 1)) - a->coeffs[8 * i + 1];\n",
      "    t[2] = (1 << (logeta - 1)) - a->coeffs[8 * i + 2];\n",
      "    t[3] = (1 << (logeta - 1)) - a->coeffs[8 * i + 3];\n",
      "    t[4] = (1 << (logeta - 1)) - a->coeffs[8 * i + 4];\n",
      "    t[5] = (1 << (logeta - 1)) - a->coeffs[8 * i + 5];\n",
      "    t[6] = (1 << (logeta - 1)) - a->coeffs[8 * i + 6];\n",
      "    t[7] = (1 << (logeta - 1)) - a->coeffs[8 * i + 7];\n",
      "\n",
      "    r[25 * i + 0] = t[0];\n",
      "    r[25 * i + 1] = t[0] >> 8;\n",
      "    r[25 * i + 2] = t[0] >> 16;\n",
      "    r[25 * i + 3] = t[0] >> 24;\n",
      "    r[25 * i + 3] |= t[1] << 1;\n",
      "    r[25 * i + 4] = t[1] >> 7;\n",
      "    r[25 * i + 5] = t[1] >> 15;\n",
      "    r[25 * i + 6] = t[1] >> 23;\n",
      "    r[25 * i + 6] |= t[2] << 2;\n",
      "    r[25 * i + 7] = t[2] >> 6;\n",
      "    r[25 * i + 8] = t[2] >> 14;\n",
      "    r[25 * i + 9] = t[2] >> 22;\n",
      "    r[25 * i + 9] |= t[3] << 3;\n",
      "    r[25 * i + 10] = t[3] >> 5;\n",
      "    r[25 * i + 11] = t[3] >> 13;\n",
      "    r[25 * i + 12] = t[3] >> 21;\n",
      "    r[25 * i + 12] |= t[4] << 4;\n",
      "    r[25 * i + 13] = t[4] >> 4;\n",
      "    r[25 * i + 14] = t[4] >> 12;\n",
      "    r[25 * i + 15] = t[4] >> 20;\n",
      "    r[25 * i + 15] |= t[5] << 5;\n",
      "    r[25 * i + 16] = t[5] >> 3;\n",
      "    r[25 * i + 17] = t[5] >> 11;\n",
      "    r[25 * i + 18] = t[5] >> 19;\n",
      "    r[25 * i + 18] |= t[6] << 6;\n",
      "    r[25 * i + 19] = t[6] >> 2;\n",
      "    r[25 * i + 20] = t[6] >> 10;\n",
      "    r[25 * i + 21] = t[6] >> 18;\n",
      "    r[25 * i + 21] |= t[7] << 7;\n",
      "    r[25 * i + 22] = t[7] >> 1;\n",
      "    r[25 * i + 23] = t[7] >> 9;\n",
      "    r[25 * i + 24] = t[7] >> 17;\n",
      "\n",
      "}\n"
     ]
    }
   ],
   "source": [
    "pack(25, 25, \"Q_SIZE\")"
   ]
  },
  {
   "cell_type": "code",
   "execution_count": null,
   "metadata": {},
   "outputs": [],
   "source": []
  },
  {
   "cell_type": "code",
   "execution_count": null,
   "metadata": {},
   "outputs": [],
   "source": []
  },
  {
   "cell_type": "code",
   "execution_count": null,
   "metadata": {},
   "outputs": [],
   "source": []
  }
 ],
 "metadata": {
  "kernelspec": {
   "display_name": "Python 3 (ipykernel)",
   "language": "python",
   "name": "python3"
  },
  "language_info": {
   "codemirror_mode": {
    "name": "ipython",
    "version": 3
   },
   "file_extension": ".py",
   "mimetype": "text/x-python",
   "name": "python",
   "nbconvert_exporter": "python",
   "pygments_lexer": "ipython3",
   "version": "3.8.10"
  }
 },
 "nbformat": 4,
 "nbformat_minor": 2
}
