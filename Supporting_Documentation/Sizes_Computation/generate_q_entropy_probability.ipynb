{
 "cells": [
  {
   "cell_type": "code",
   "execution_count": 1,
   "id": "56a5a701",
   "metadata": {},
   "outputs": [],
   "source": [
    "import math\n",
    "import sympy\n",
    "import numpy as np"
   ]
  },
  {
   "cell_type": "code",
   "execution_count": null,
   "id": "bf1f14df",
   "metadata": {},
   "outputs": [],
   "source": []
  },
  {
   "cell_type": "code",
   "execution_count": 2,
   "id": "ffd7b689",
   "metadata": {},
   "outputs": [],
   "source": [
    "def proba(params, gamma1, gamma2):\n",
    "    n, l, eta_f, tau, td, _, k, Q = params\n",
    "    return np.exp(-n*l*eta_f*tau*(l/(2**int(gamma1-1).bit_length()) +\\\n",
    "                                  (k*l*td)*(1/(2**int(gamma2-1).bit_length())+1/(Q-1))))\n",
    "\n",
    "def repet(params, gamma1, gamma2):\n",
    "    return 1/proba(params, gamma1, gamma2)\n",
    "    \n",
    "def entropy_c(param):\n",
    "    n, l, _, tau= param[0:4]\n",
    "    return l*int(math.comb(n, tau)*2**tau).bit_length()\n",
    "\n",
    "def gamma1_(params):\n",
    "    n, l, eta_f, tau = params\n",
    "    return n*(l**2)*tau*eta_f\n",
    "\n",
    "def gamma2_(params):\n",
    "    n, l, eta_f, tau, td, tg, k, _ =params\n",
    "    return n*(l**2)*k*td*tau*eta_f\n",
    "\n",
    "def entropy_gd(param):\n",
    "    n, l,_, __, td, tg, k = param[0:7]\n",
    "    return l*k*(int(math.comb(n, td)*2**td).bit_length())+int(math.comb(n, tg)*2**tg).bit_length()\n",
    "\n",
    "def entropy_g(param):\n",
    "    n, l,_, __, td, tg, k = param[0:7]\n",
    "    return int(math.comb(n, tg)*2**tg).bit_length()\n",
    "\n",
    "def entropy_d(param):\n",
    "    n, l,_, __, td, tg, k = param[0:7]\n",
    "    return l*k*(int(math.comb(n, td)*2**td).bit_length())\n",
    "\n",
    "\n",
    "def find_tau(n, l, top):\n",
    "    t = 1\n",
    "    while entropy_c(n, l, t) < top:\n",
    "        t += 1\n",
    "\n",
    "    return t\n",
    "\n",
    "def find_td(n, l, k, top):\n",
    "    t = 1\n",
    "    while entropy_gd((n, l, None, None, t, t, k)) < top:\n",
    "        t += 1\n",
    "\n",
    "    return t"
   ]
  },
  {
   "cell_type": "code",
   "execution_count": null,
   "id": "eb67b6fb",
   "metadata": {},
   "outputs": [],
   "source": []
  },
  {
   "cell_type": "code",
   "execution_count": 3,
   "id": "66b04d82",
   "metadata": {},
   "outputs": [],
   "source": [
    "# params = (n, l, eta_f, tau, td, tg,  k, q)\n",
    "params = {\n",
    "   \"2\": (1024, 1, 1, 16, 7, 7, 1, 2021377),\n",
    "   \"5\": (2048, 1, 1, 30, 13, 14, 1 , 33292289),\n",
    "   \"5++\": (1024, 2, 1, 16, 3, 16, 3, 7340033)\n",
    "}"
   ]
  },
  {
   "cell_type": "code",
   "execution_count": null,
   "id": "8baead42",
   "metadata": {},
   "outputs": [],
   "source": []
  },
  {
   "cell_type": "code",
   "execution_count": 4,
   "id": "66155e52",
   "metadata": {},
   "outputs": [
    {
     "name": "stdout",
     "output_type": "stream",
     "text": [
      "2: Entropy_c = 132 \tEntropy_gd = 130 \tEntropy_d = 65 \tEntropy_g = 65\n",
      "5: Entropy_c = 252 \tEntropy_gd = 256 \tEntropy_d = 124 \tEntropy_g = 132\n",
      "5++: Entropy_c = 264 \tEntropy_gd = 318 \tEntropy_d = 186 \tEntropy_g = 132\n"
     ]
    }
   ],
   "source": [
    "for key in params.keys():\n",
    "    print(\"{}: Entropy_c = {} \\tEntropy_gd = {} \\tEntropy_d = {} \\tEntropy_g = {}\".format(key, entropy_c(params[key]), entropy_gd(params[key]), entropy_d(params[key]), entropy_g(params[key])))"
   ]
  },
  {
   "cell_type": "code",
   "execution_count": 5,
   "id": "e60c3957",
   "metadata": {},
   "outputs": [
    {
     "name": "stdout",
     "output_type": "stream",
     "text": [
      "2: Repets = 6.901491782878755\n",
      "5: Repets = 5.602482996658697\n",
      "5++: Repets = 5.16991962954599\n"
     ]
    }
   ],
   "source": [
    "for key in params.keys():\n",
    "    print(\"{}: Repets = {}\".format(key, repet(params[key][0:8], gamma1_(params[key][0:4]), gamma2_(params[key]))))"
   ]
  },
  {
   "cell_type": "code",
   "execution_count": 7,
   "id": "418cc405",
   "metadata": {},
   "outputs": [],
   "source": [
    "def generate_q1(maxi, n):\n",
    "    init = maxi + 3\n",
    "    alpha = int(2*n - 1).bit_length()\n",
    "    ite = init - 1\n",
    "    beg = 2**init - 2**ite + 1 \n",
    "    while((not sympy.isprime(beg)) and alpha < ite):\n",
    "        ite -= 1\n",
    "        beg = 2**init - 2**ite + 1\n",
    "        \n",
    "    return (beg, ite) if sympy.isprime(beg) else None"
   ]
  },
  {
   "cell_type": "code",
   "execution_count": null,
   "id": "1de48c54",
   "metadata": {},
   "outputs": [],
   "source": []
  },
  {
   "cell_type": "code",
   "execution_count": 9,
   "id": "c85ee6ad",
   "metadata": {},
   "outputs": [],
   "source": [
    "def generate_q2(maxi, n):\n",
    "    init = maxi + 3\n",
    "    alpha = int(2*n - 1).bit_length()\n",
    "    beta = 1\n",
    "    beg = 2**init - beta * 2**alpha + 1 \n",
    "    while(not sympy.isprime(beg) and beta < (2**(maxi+2-alpha))):\n",
    "        beta += 2\n",
    "        beg = (2**init) - beta * (2**alpha) + 1 \n",
    "        \n",
    "    return (beg, beta, alpha, init) if sympy.isprime(beg) else None"
   ]
  }
 ],
 "metadata": {
  "kernelspec": {
   "display_name": "SageMath 9.0",
   "language": "sage",
   "name": "sagemath"
  },
  "language_info": {
   "codemirror_mode": {
    "name": "ipython",
    "version": 3
   },
   "file_extension": ".py",
   "mimetype": "text/x-python",
   "name": "python",
   "nbconvert_exporter": "python",
   "pygments_lexer": "ipython3",
   "version": "3.8.10"
  }
 },
 "nbformat": 4,
 "nbformat_minor": 5
}
