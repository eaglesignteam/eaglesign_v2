{
 "cells": [
  {
   "cell_type": "code",
   "execution_count": 1,
   "id": "a26c2e75",
   "metadata": {},
   "outputs": [],
   "source": [
    "import math"
   ]
  },
  {
   "cell_type": "code",
   "execution_count": null,
   "id": "77ff2141",
   "metadata": {},
   "outputs": [],
   "source": []
  },
  {
   "cell_type": "code",
   "execution_count": 2,
   "id": "4d0e2050",
   "metadata": {},
   "outputs": [],
   "source": [
    "def log_gamma1(params):\n",
    "    n, l, eta_f, tau = params\n",
    "    return math.log2(n*(l**2)*tau*eta_f)\n",
    "\n",
    "def log_gamma2(params):\n",
    "    n, l, eta_f, tau, td, tg, k, _ =params\n",
    "    return math.log2(n*(l**2)*k*td*tau*eta_f)\n",
    "\n",
    "\n",
    "def gamma1_(params):\n",
    "    n, l, eta_f, tau = params\n",
    "    return n*(l**2)*tau*eta_f\n",
    "\n",
    "def gamma2_(params):\n",
    "    n, l, eta_f, tau, td, tg, k, _ =params\n",
    "    return n*(l**2)*k*td*tau*eta_f\n",
    "\n",
    "\n",
    "def beta(params):\n",
    "    _, l, eta_f, tau = params[0:4]\n",
    "    return l*eta_f*tau"
   ]
  },
  {
   "cell_type": "code",
   "execution_count": null,
   "id": "5f627014",
   "metadata": {},
   "outputs": [],
   "source": []
  },
  {
   "cell_type": "code",
   "execution_count": 3,
   "id": "2de42807",
   "metadata": {},
   "outputs": [],
   "source": [
    "def size_z(n, l, tg, gamma1):\n",
    "    return 32 + n/8*l*int(2*tg*(2**int(gamma1-1).bit_length()) - 1).bit_length()\n",
    "\n",
    "def size_z_(n, l, tg, gamma1, param):\n",
    "    return 32 + n/8*l*int(2*tg*(2**int(gamma1-1).bit_length()) - beta(param)).bit_length()\n",
    "\n",
    "def z_size(n, l, tg, gamma1, param):\n",
    "    return int(2*tg*(2**int(gamma1-1).bit_length()) - beta(param)).bit_length()\n",
    "\n",
    "def size_pk(n,k,l,q):\n",
    "    return 32 + n/8*k*l*int(q - 1).bit_length()"
   ]
  },
  {
   "cell_type": "code",
   "execution_count": null,
   "id": "fc24e6b3",
   "metadata": {},
   "outputs": [],
   "source": []
  },
  {
   "cell_type": "code",
   "execution_count": 5,
   "id": "caaec3ff",
   "metadata": {},
   "outputs": [],
   "source": [
    "# params = (n, l, eta_f, tau, td, tg,  k, q)\n",
    "params = {\n",
    "   \"2\": (1024, 1, 1, 16, 7, 7, 1, 2021377),\n",
    "   \"5\": (2048, 1, 1, 30, 13, 14, 1 , 33292289),\n",
    "   \"5++\": (1024, 2, 1, 16, 3, 16, 3, 7340033)\n",
    "}"
   ]
  },
  {
   "cell_type": "code",
   "execution_count": 6,
   "id": "c57413c9",
   "metadata": {},
   "outputs": [
    {
     "name": "stdout",
     "output_type": "stream",
     "text": [
      "2: log_gamma1 = 14.0   && log_gamma2 = 16.807354922057606\n",
      "5: log_gamma1 = 15.906890595608518   && log_gamma2 = 19.60733031374961\n",
      "5++: log_gamma1 = 16.0   && log_gamma2 = 19.169925001442312\n"
     ]
    }
   ],
   "source": [
    "for key in params.keys():\n",
    "    print(\"{}: log_gamma1 = {}   && log_gamma2 = {}\".format(key, log_gamma1(params[key][0:4]), log_gamma2(params[key])))"
   ]
  },
  {
   "cell_type": "code",
   "execution_count": null,
   "id": "2b5155c0",
   "metadata": {},
   "outputs": [],
   "source": []
  },
  {
   "cell_type": "code",
   "execution_count": 7,
   "id": "7e6bcfb7",
   "metadata": {},
   "outputs": [
    {
     "name": "stdout",
     "output_type": "stream",
     "text": [
      "2: log_gamma1 = 14   && log_gamma2 = 17\n",
      "5: log_gamma1 = 16   && log_gamma2 = 20\n",
      "5++: log_gamma1 = 16   && log_gamma2 = 20\n"
     ]
    }
   ],
   "source": [
    "for key in params.keys():\n",
    "    print(\"{}: log_gamma1 = {}   && log_gamma2 = {}\".format(key, int(gamma1_(params[key][0:4])-1).bit_length(), int(gamma2_(params[key])-1).bit_length()))"
   ]
  },
  {
   "cell_type": "code",
   "execution_count": null,
   "id": "5af0c962",
   "metadata": {},
   "outputs": [],
   "source": []
  },
  {
   "cell_type": "code",
   "execution_count": 8,
   "id": "296efdc6",
   "metadata": {},
   "outputs": [
    {
     "name": "stdout",
     "output_type": "stream",
     "text": [
      "2: log_q = 21\n",
      "5: log_q = 25\n",
      "5++: log_q = 23\n"
     ]
    }
   ],
   "source": [
    "for key in params.keys():\n",
    "    print(\"{}: log_q = {}\".format(key, int(params[key][-1]-1).bit_length()))"
   ]
  },
  {
   "cell_type": "code",
   "execution_count": 9,
   "id": "f901b70d",
   "metadata": {},
   "outputs": [
    {
     "name": "stdout",
     "output_type": "stream",
     "text": [
      "2: log_q = 0x1FFFFF\n",
      "5: log_q = 0x1FFFFFF\n",
      "5++: log_q = 0x7FFFFF\n"
     ]
    }
   ],
   "source": [
    "for key in params.keys():\n",
    "    print(\"{}: log_q = {}\".format(key, \"0x\"+hex(2**int(params[key][-1]-1).bit_length()-1)[2:].upper()))"
   ]
  },
  {
   "cell_type": "code",
   "execution_count": 10,
   "id": "2a5fa89a",
   "metadata": {},
   "outputs": [
    {
     "name": "stdout",
     "output_type": "stream",
     "text": [
      "2: beta = 16\n",
      "5: beta = 30\n",
      "5++: beta = 32\n"
     ]
    }
   ],
   "source": [
    "for key in params.keys():\n",
    "    print(\"{}: beta = {}\".format(key, beta(params[key])))"
   ]
  },
  {
   "cell_type": "code",
   "execution_count": null,
   "id": "916f6522",
   "metadata": {},
   "outputs": [],
   "source": []
  },
  {
   "cell_type": "code",
   "execution_count": 11,
   "id": "d81e3339",
   "metadata": {},
   "outputs": [
    {
     "name": "stdout",
     "output_type": "stream",
     "text": [
      "2: |Pk| = 2720\t|\t|z| = 2336\t|\t|Pk|+|z| = 5056\n",
      "5: |Pk| = 6432\t|\t|z| = 5408\t|\t|Pk|+|z| = 11840\n",
      "5++: |Pk| = 17696\t|\t|z| = 5408\t|\t|Pk|+|z| = 23104\n"
     ]
    }
   ],
   "source": [
    "for key in params.keys():\n",
    "    print(\"{}: |Pk| = {}\\t|\\t|z| = {}\\t|\\t|Pk|+|z| = {}\".format(key, \n",
    "                                               size_pk(params[key][0], params[key][6], params[key][1], params[key][7]), \n",
    "                                               size_z(params[key][0], params[key][1], params[key][5], gamma1_(params[key][0:4])),\n",
    "                                                size_pk(params[key][0], params[key][6], params[key][1], params[key][7])+\\\n",
    "                                               size_z(params[key][0], params[key][1], params[key][5], gamma1_(params[key][0:4]))))"
   ]
  },
  {
   "cell_type": "code",
   "execution_count": 12,
   "id": "07be2634",
   "metadata": {},
   "outputs": [
    {
     "name": "stdout",
     "output_type": "stream",
     "text": [
      "2: |z| = 18\n",
      "5: |z| = 21\n",
      "5++: |z| = 21\n"
     ]
    }
   ],
   "source": [
    "for key in params.keys():\n",
    "    print(\"{}: |z| = {}\".format(key, z_size(params[key][0], params[key][1], params[key][5], gamma1_(params[key][0:4]), params[key])))"
   ]
  }
 ],
 "metadata": {
  "kernelspec": {
   "display_name": "SageMath 9.0",
   "language": "sage",
   "name": "sagemath"
  },
  "language_info": {
   "codemirror_mode": {
    "name": "ipython",
    "version": 3
   },
   "file_extension": ".py",
   "mimetype": "text/x-python",
   "name": "python",
   "nbconvert_exporter": "python",
   "pygments_lexer": "ipython3",
   "version": "3.8.10"
  }
 },
 "nbformat": 4,
 "nbformat_minor": 5
}
